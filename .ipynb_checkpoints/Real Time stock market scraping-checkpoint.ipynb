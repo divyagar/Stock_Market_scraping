{
 "cells": [
  {
   "cell_type": "code",
   "execution_count": 1,
   "metadata": {},
   "outputs": [],
   "source": [
    "import requests"
   ]
  },
  {
   "cell_type": "code",
   "execution_count": 2,
   "metadata": {},
   "outputs": [],
   "source": [
    "from bs4 import BeautifulSoup"
   ]
  },
  {
   "cell_type": "code",
   "execution_count": 3,
   "metadata": {},
   "outputs": [],
   "source": [
    "def print_value():\n",
    "    for i in range(20):\n",
    "        url = \"https://in.finance.yahoo.com/quote/%5EBSESN?p=^BSESN\"\n",
    "        data = requests.get(url)\n",
    "        soup = BeautifulSoup(data.content)\n",
    "        tag = soup.find('span', attrs = {'class': 'Trsdu(0.3s) Fz(s) Mt(4px) Mb(0px) Fw(b) D(ib)'})\n",
    "        print(\"Current value of BSE Sensex : \", tag.text)"
   ]
  },
  {
   "cell_type": "code",
   "execution_count": 4,
   "metadata": {},
   "outputs": [
    {
     "name": "stdout",
     "output_type": "stream",
     "text": [
      "Current value of BSE Sensex :  38,417.23\n",
      "Current value of BSE Sensex :  38,417.23\n",
      "Current value of BSE Sensex :  38,417.23\n",
      "Current value of BSE Sensex :  38,417.23\n",
      "Current value of BSE Sensex :  38,417.23\n",
      "Current value of BSE Sensex :  38,417.23\n",
      "Current value of BSE Sensex :  38,417.23\n",
      "Current value of BSE Sensex :  38,417.23\n",
      "Current value of BSE Sensex :  38,417.23\n",
      "Current value of BSE Sensex :  38,417.23\n",
      "Current value of BSE Sensex :  38,417.23\n",
      "Current value of BSE Sensex :  38,417.23\n",
      "Current value of BSE Sensex :  38,417.23\n",
      "Current value of BSE Sensex :  38,417.23\n",
      "Current value of BSE Sensex :  38,417.23\n",
      "Current value of BSE Sensex :  38,417.23\n",
      "Current value of BSE Sensex :  38,417.23\n",
      "Current value of BSE Sensex :  38,417.23\n",
      "Current value of BSE Sensex :  38,417.23\n",
      "Current value of BSE Sensex :  38,417.23\n"
     ]
    }
   ],
   "source": [
    "print_value()"
   ]
  },
  {
   "cell_type": "code",
   "execution_count": null,
   "metadata": {},
   "outputs": [],
   "source": []
  }
 ],
 "metadata": {
  "kernelspec": {
   "display_name": "Python 3",
   "language": "python",
   "name": "python3"
  },
  "language_info": {
   "codemirror_mode": {
    "name": "ipython",
    "version": 3
   },
   "file_extension": ".py",
   "mimetype": "text/x-python",
   "name": "python",
   "nbconvert_exporter": "python",
   "pygments_lexer": "ipython3",
   "version": "3.7.6"
  }
 },
 "nbformat": 4,
 "nbformat_minor": 4
}
